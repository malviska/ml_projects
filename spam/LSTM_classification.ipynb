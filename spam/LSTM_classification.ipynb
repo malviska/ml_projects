{
 "cells": [
  {
   "cell_type": "code",
   "execution_count": 98,
   "metadata": {},
   "outputs": [],
   "source": [
    "import torch\n",
    "import torch.nn as nn\n",
    "import numpy as np\n",
    "import pandas as pd\n",
    "import matplotlib.pyplot as plt\n",
    "import re\n",
    "from datetime import datetime\n",
    "\n",
    "from sklearn.model_selection import train_test_split\n",
    "from sklearn.utils import shuffle"
   ]
  },
  {
   "cell_type": "code",
   "execution_count": 99,
   "metadata": {},
   "outputs": [
    {
     "name": "stderr",
     "output_type": "stream",
     "text": [
      "28502.82s - pydevd: Sending message related to process being replaced timed-out after 5 seconds\n"
     ]
    },
    {
     "name": "stdout",
     "output_type": "stream",
     "text": [
      "File ‘spam.csv’ already there; not retrieving.\n",
      "\n"
     ]
    }
   ],
   "source": [
    "!wget -nc https://lazyprogrammer.me/course_files/spam.csv"
   ]
  },
  {
   "cell_type": "code",
   "execution_count": 100,
   "metadata": {},
   "outputs": [],
   "source": [
    "df = pd.read_csv('spam.csv', encoding='ISO-8859-1')"
   ]
  },
  {
   "cell_type": "code",
   "execution_count": 101,
   "metadata": {},
   "outputs": [],
   "source": [
    "df = df.drop([\"Unnamed: 2\", \"Unnamed: 3\", \"Unnamed: 4\"], axis=1)\n"
   ]
  },
  {
   "cell_type": "code",
   "execution_count": 102,
   "metadata": {},
   "outputs": [
    {
     "data": {
      "text/plain": [
       "((3733, 3), (1839, 3))"
      ]
     },
     "execution_count": 102,
     "metadata": {},
     "output_type": "execute_result"
    }
   ],
   "source": [
    "df.columns = ['labels', 'data']\n",
    "df['data'] = df['data'].str.lower()\n",
    "df['b_labels'] = df['labels'].map({'ham': 0, 'spam': 1})\n",
    "df.head()\n",
    "df_train, df_test = train_test_split(df, test_size=0.33)\n",
    "df_train.shape,df_test.shape"
   ]
  },
  {
   "cell_type": "code",
   "execution_count": 103,
   "metadata": {},
   "outputs": [
    {
     "name": "stdout",
     "output_type": "stream",
     "text": [
      "['comp', ' ', 'to', ' ', 'win', ' ', 'fa', ' ', 'cup', ' ', 'final', '...\\n ', 'u', ' ', 'dun', ' ', 'say', ' ', 'so', ' ', 'early', ' ', 'hor', '... ', 'u', ' ', 'c', ' ', 'already', ' ', 'then', ' ', 'say', '...\\n', 'nah', ' ', 'i', ' ', 'don', \"'\", 't', ' ', 'think', ' ', 'he', ' ', 'goes', ' ', 'to', ' ', 'usf', ', ', 'he', ' ', 'lives', ' ', 'arou', '...\\n', 'freemsg', ' ']\n",
      "['comp', '', 'to', '', 'win', '', 'fa', '', 'cup', '', 'final', '...', 'u', '', 'dun', '', 'say', '', 'so', '', 'early', '', 'hor', '...', 'u', '', 'c', '', 'already', '', 'then', '', 'say', '...', 'nah', '', 'i', '', 'don', \"'\", 't', '', 'think', '', 'he', '', 'goes', '', 'to', '', 'usf', ',', 'he', '', 'lives', '', 'arou', '...', 'freemsg', '']\n"
     ]
    }
   ],
   "source": [
    "pattern = r'(\\W+)'\n",
    "data = df['data'].to_string(index= False)\n",
    "data = re.split(pattern, data)\n",
    "print(data[40:100])\n",
    "for i in range(len(data)):\n",
    "  data[i] = re.sub(' *|\\n', '', data[i])\n",
    "print(data[40:100])"
   ]
  },
  {
   "cell_type": "code",
   "execution_count": 104,
   "metadata": {},
   "outputs": [],
   "source": [
    "setOfwords = set(data)\n",
    "setOfwords.remove('')\n",
    "# 0 = padding\n",
    "\n",
    "idx = 1\n",
    "word2idx = { '<PAD>': 0 }\n",
    "\n",
    "for i in setOfwords:\n",
    "  word2idx[i] = idx\n",
    "  idx+=1\n",
    "\n",
    "\n"
   ]
  },
  {
   "cell_type": "code",
   "execution_count": 105,
   "metadata": {},
   "outputs": [],
   "source": [
    "train_sentences_as_int = []\n",
    "for i, row in df_train.iterrows():\n",
    "  tokens = re.split(pattern, row['data'])\n",
    "  tokens = [re.sub(' *|\\n', '',i) for i in tokens]\n",
    "  tokens = filter(lambda x : x != '', tokens)\n",
    "  sentence_as_int = [word2idx[token] for token in tokens if token in word2idx]\n",
    "  train_sentences_as_int.append(sentence_as_int)\n",
    "\n",
    "\n",
    "test_sentences_as_int = []\n",
    "for i, row in df_test.iterrows():\n",
    "  tokens = re.split(pattern, row['data'])\n",
    "  tokens = [re.sub(' *|\\n', '',i) for i in tokens]\n",
    "  tokens = filter(lambda x : x != '', tokens)\n",
    "  sentence_as_int = [word2idx[token] for token in tokens if token in word2idx]\n",
    "  test_sentences_as_int.append(sentence_as_int)"
   ]
  },
  {
   "cell_type": "code",
   "execution_count": 106,
   "metadata": {},
   "outputs": [],
   "source": [
    "def data_generator(X, y, batch_size = 32):\n",
    "  X, y = shuffle(X,y)\n",
    "  n_batches = int(np.ceil(len(y) / batch_size))\n",
    "  for i in range(n_batches):\n",
    "    end = min((i+1)* batch_size, len(y))\n",
    "    X_batch = X[i*batch_size:end]\n",
    "    y_batch = y[i*batch_size:end]\n",
    "    max_len = np.max([len(x) for x in X_batch])\n",
    "    for j in range(len(X_batch)):\n",
    "      x = X_batch[j]\n",
    "      pad = [0] * (max_len - len(x))\n",
    "      X_batch[j] = pad + x\n",
    "\n",
    "    X_batch = torch.from_numpy(np.asarray(X_batch)).long()\n",
    "    y_batch = torch.from_numpy(np.asarray(y_batch)).long()\n",
    "    yield X_batch, y_batch"
   ]
  },
  {
   "cell_type": "code",
   "execution_count": 107,
   "metadata": {},
   "outputs": [
    {
     "name": "stdout",
     "output_type": "stream",
     "text": [
      "inputs tensor([[   0,    0,    0,  ..., 2323,  584, 1000],\n",
      "        [   0,    0,    0,  ...,  586, 1687,  871],\n",
      "        [   0,    0,    0,  ..., 5362, 5887, 1885],\n",
      "        ...,\n",
      "        [   0,    0,    0,  ...,   32, 5836, 2311],\n",
      "        [   0,    0,    0,  ..., 3092, 4348, 1885],\n",
      "        [   0,    0,    0,  ..., 4930, 2371, 1885]]) shape: torch.Size([32, 66])\n",
      "targets tensor([0, 0, 0, 0, 1, 0, 0, 0, 0, 0, 0, 0, 0, 0, 0, 1, 0, 0, 0, 0, 0, 1, 0, 0,\n",
      "        0, 0, 0, 0, 1, 1, 0, 1]) shape: torch.Size([32])\n",
      "inputs tensor([[   0,    0,    0,  ..., 5748, 3862, 4086],\n",
      "        [   0,    0,    0,  ..., 1734, 5818, 2271],\n",
      "        [   0,    0,    0,  ...,  489, 1831, 1885],\n",
      "        ...,\n",
      "        [   0,    0,    0,  ..., 3553, 4957, 3341],\n",
      "        [   0,    0,    0,  ..., 1885, 5068, 5840],\n",
      "        [   0,    0,    0,  ..., 1887,  586,  398]]) shape: torch.Size([32, 40])\n",
      "targets tensor([0, 1, 1, 0, 0, 0, 0, 0, 0, 0, 0, 0, 0, 0, 0, 0, 0, 0, 0, 0, 0, 0, 1, 0,\n",
      "        0, 1, 1, 0, 0, 0, 1, 0]) shape: torch.Size([32])\n"
     ]
    },
    {
     "name": "stderr",
     "output_type": "stream",
     "text": [
      "/tmp/ipykernel_43139/456560955.py:7: FutureWarning: The behavior of `series[i:j]` with an integer-dtype index is deprecated. In a future version, this will be treated as *label-based* indexing, consistent with e.g. `series[i]` lookups. To retain the old behavior, use `series.iloc[i:j]`. To get the future behavior, use `series.loc[i:j]`.\n",
      "  y_batch = y[i*batch_size:end]\n"
     ]
    }
   ],
   "source": [
    "for inputs, targets in data_generator(train_sentences_as_int, df_train.b_labels):\n",
    "  print('inputs', inputs, 'shape:', inputs.shape)\n",
    "  print( 'targets', targets, 'shape:', targets.shape)\n",
    "  break\n",
    "for inputs, targets in data_generator(test_sentences_as_int, df_test.b_labels):\n",
    "  print('inputs', inputs, 'shape:', inputs.shape)\n",
    "  print( 'targets', targets, 'shape:', targets.shape)\n",
    "  break"
   ]
  },
  {
   "cell_type": "code",
   "execution_count": 108,
   "metadata": {},
   "outputs": [
    {
     "name": "stdout",
     "output_type": "stream",
     "text": [
      "cpu\n"
     ]
    }
   ],
   "source": [
    "device = torch.device('cuda:0' if torch.cuda.is_available() else 'cpu')\n",
    "print(device)"
   ]
  },
  {
   "cell_type": "code",
   "execution_count": 109,
   "metadata": {},
   "outputs": [],
   "source": [
    "class RNN(nn.Module):\n",
    "  def __init__(self, n_vocab, embed_dim, n_hidden, n_rnnlayers, n_outputs):\n",
    "    super(RNN, self).__init__()\n",
    "    self.V =  n_vocab\n",
    "    self.D = embed_dim\n",
    "    self.M = n_hidden\n",
    "    self.K = n_outputs\n",
    "    self.L = n_rnnlayers\n",
    "    \n",
    "    self.embed = nn.Embedding(self.V, self.D)\n",
    "    self.rnn = nn.LSTM(\n",
    "      input_size = self.D,\n",
    "      hidden_size = self.M,\n",
    "      num_layers = self.L,\n",
    "      batch_first = True\n",
    "    )\n",
    "    self.fc = nn.Linear(self.M, self.K)\n",
    "\n",
    "  def forward(self, X):\n",
    "    h0 = torch.zeros(self.L, X.size(0), self.M).to(device)\n",
    "    c0 = torch.zeros(self.L, X.size(0), self.M).to(device)\n",
    "\n",
    "    out = self.embed(X)\n",
    "\n",
    "    out, _ = self.rnn(out, (h0,c0))\n",
    "    out, _ = torch.max(out, 1)\n",
    "    \n",
    "    out = self.fc(out)\n",
    "\n",
    "    return out\n"
   ]
  },
  {
   "cell_type": "code",
   "execution_count": 110,
   "metadata": {},
   "outputs": [
    {
     "data": {
      "text/plain": [
       "RNN(\n",
       "  (embed): Embedding(5977, 20)\n",
       "  (rnn): LSTM(20, 15, batch_first=True)\n",
       "  (fc): Linear(in_features=15, out_features=1, bias=True)\n",
       ")"
      ]
     },
     "execution_count": 110,
     "metadata": {},
     "output_type": "execute_result"
    }
   ],
   "source": [
    "model =  RNN(len(word2idx), 20, 15, 1, 1)\n",
    "model.to(device)"
   ]
  },
  {
   "cell_type": "code",
   "execution_count": 111,
   "metadata": {},
   "outputs": [],
   "source": [
    "criterion = nn.BCEWithLogitsLoss()\n",
    "optimizer =  torch.optim.Adam(model.parameters())"
   ]
  },
  {
   "cell_type": "code",
   "execution_count": 112,
   "metadata": {},
   "outputs": [],
   "source": [
    "train_gen = lambda: data_generator(train_sentences_as_int, df_train.b_labels)\n",
    "test_gen = lambda: data_generator(test_sentences_as_int, df_test.b_labels)"
   ]
  },
  {
   "cell_type": "code",
   "execution_count": 113,
   "metadata": {},
   "outputs": [],
   "source": [
    "def batch_gd(model, criterion, optimizer, epochs):\n",
    "  train_losses = np.zeros(epochs)\n",
    "  test_losses = np.zeros(epochs)\n",
    "\n",
    "  for it in range(epochs):\n",
    "    t0 = datetime.now()\n",
    "    train_loss = []\n",
    "    for inputs, targets in train_gen():\n",
    "      targets = targets.view(-1,1).float()\n",
    "      inputs, targets = inputs.to(device), targets.to(device)\n",
    "      optimizer.zero_grad()\n",
    "      outputs =  model(inputs)\n",
    "      loss = criterion(outputs, targets)\n",
    "\n",
    "      loss.backward()\n",
    "      optimizer.step()\n",
    "\n",
    "      train_loss.append(loss.item())\n",
    "\n",
    "    train_loss =  np.mean(train_loss)\n",
    "\n",
    "    test_loss = []\n",
    "    for inputs, targets in test_gen():\n",
    "      inputs, targets = inputs.to(device), targets.to(device)\n",
    "      targets = targets.view(-1,1).float()\n",
    "      outputs = model(inputs)\n",
    "      loss = criterion(outputs, targets)\n",
    "      test_loss.append(loss.item())\n",
    "\n",
    "    test_loss = np.mean(test_loss)\n",
    "\n",
    "    train_losses[it] = train_loss\n",
    "    test_losses[it] = test_loss\n",
    "    dt = datetime.now() - t0\n",
    "    print(f'Epoch {it+1}/{epochs}, Train Loss: {train_loss:.4f}, Test Loss: {test_loss:.4f}, Duration: {dt}')\n",
    "\n",
    "  return train_losses, test_losses"
   ]
  },
  {
   "cell_type": "code",
   "execution_count": 114,
   "metadata": {},
   "outputs": [
    {
     "name": "stderr",
     "output_type": "stream",
     "text": [
      "/tmp/ipykernel_43139/456560955.py:7: FutureWarning: The behavior of `series[i:j]` with an integer-dtype index is deprecated. In a future version, this will be treated as *label-based* indexing, consistent with e.g. `series[i]` lookups. To retain the old behavior, use `series.iloc[i:j]`. To get the future behavior, use `series.loc[i:j]`.\n",
      "  y_batch = y[i*batch_size:end]\n"
     ]
    },
    {
     "name": "stdout",
     "output_type": "stream",
     "text": [
      "Epoch 1/15, Train Loss: 0.4178, Test Loss: 0.3665, Duration: 0:00:04.676340\n",
      "Epoch 2/15, Train Loss: 0.2996, Test Loss: 0.2615, Duration: 0:00:04.154348\n",
      "Epoch 3/15, Train Loss: 0.2003, Test Loss: 0.1657, Duration: 0:00:04.320499\n",
      "Epoch 4/15, Train Loss: 0.1312, Test Loss: 0.1218, Duration: 0:00:04.333300\n",
      "Epoch 5/15, Train Loss: 0.0984, Test Loss: 0.1026, Duration: 0:00:04.329181\n",
      "Epoch 6/15, Train Loss: 0.0794, Test Loss: 0.0897, Duration: 0:00:04.300836\n",
      "Epoch 7/15, Train Loss: 0.0650, Test Loss: 0.0833, Duration: 0:00:04.363575\n",
      "Epoch 8/15, Train Loss: 0.0579, Test Loss: 0.0770, Duration: 0:00:04.278485\n",
      "Epoch 9/15, Train Loss: 0.0496, Test Loss: 0.0744, Duration: 0:00:05.185136\n",
      "Epoch 10/15, Train Loss: 0.0436, Test Loss: 0.0690, Duration: 0:00:05.076935\n",
      "Epoch 11/15, Train Loss: 0.0375, Test Loss: 0.0710, Duration: 0:00:04.612682\n",
      "Epoch 12/15, Train Loss: 0.0324, Test Loss: 0.0691, Duration: 0:00:04.268443\n",
      "Epoch 13/15, Train Loss: 0.0289, Test Loss: 0.0705, Duration: 0:00:04.498648\n",
      "Epoch 14/15, Train Loss: 0.0247, Test Loss: 0.0724, Duration: 0:00:04.447598\n",
      "Epoch 15/15, Train Loss: 0.0227, Test Loss: 0.0724, Duration: 0:00:04.337586\n"
     ]
    }
   ],
   "source": [
    "train_losses, test_losses =  batch_gd(model, criterion, optimizer, 15)"
   ]
  },
  {
   "cell_type": "code",
   "execution_count": 115,
   "metadata": {},
   "outputs": [
    {
     "data": {
      "image/png": "[encoded data removed]",
      "text/plain": [
       "<Figure size 640x480 with 1 Axes>"
      ]
     },
     "metadata": {},
     "output_type": "display_data"
    }
   ],
   "source": [
    "plt.plot(train_losses, label ='train loss')\n",
    "plt.plot(test_losses, label = 'test loss')\n",
    "plt.legend()\n",
    "plt.show()"
   ]
  },
  {
   "cell_type": "code",
   "execution_count": 116,
   "metadata": {},
   "outputs": [
    {
     "name": "stderr",
     "output_type": "stream",
     "text": [
      "/tmp/ipykernel_43139/456560955.py:7: FutureWarning: The behavior of `series[i:j]` with an integer-dtype index is deprecated. In a future version, this will be treated as *label-based* indexing, consistent with e.g. `series[i]` lookups. To retain the old behavior, use `series.iloc[i:j]`. To get the future behavior, use `series.loc[i:j]`.\n",
      "  y_batch = y[i*batch_size:end]\n"
     ]
    },
    {
     "name": "stdout",
     "output_type": "stream",
     "text": [
      "Train acc: 0.9960, Test acc: 0.9899\n"
     ]
    }
   ],
   "source": [
    "n_correct= 0\n",
    "n_total = 0\n",
    "\n",
    "for inputs, targets in train_gen():\n",
    "  targets = targets.view(-1, 1).float()\n",
    "  inputs, targets =  inputs.to(device), targets.to(device)\n",
    "\n",
    "  outputs = model(inputs)\n",
    "  \n",
    "  predictions = (outputs > 0)\n",
    "\n",
    "  n_correct += (predictions == targets).sum().item()\n",
    "  n_total += targets.shape[0]\n",
    "\n",
    "train_acc = n_correct/n_total\n",
    "for inputs, targets in test_gen():\n",
    "  targets = targets.view(-1, 1).float()\n",
    "  inputs, targets =  inputs.to(device), targets.to(device)\n",
    "\n",
    "  outputs = model(inputs)\n",
    "  \n",
    "  predictions = (outputs > 0)\n",
    "\n",
    "  n_correct += (predictions == targets).sum().item()\n",
    "  n_total += targets.shape[0]\n",
    "\n",
    "test_acc = n_correct/n_total\n",
    "print(f'Train acc: {train_acc:.4f}, Test acc: {test_acc:.4f}')"
   ]
  }
 ],
 "metadata": {
  "kernelspec": {
   "display_name": "Python 3",
   "language": "python",
   "name": "python3"
  },
  "language_info": {
   "codemirror_mode": {
    "name": "ipython",
    "version": 3
   },
   "file_extension": ".py",
   "mimetype": "text/x-python",
   "name": "python",
   "nbconvert_exporter": "python",
   "pygments_lexer": "ipython3",
   "version": "3.10.6"
  },
  "orig_nbformat": 4,
  "vscode": {
   "interpreter": {
    "hash": "916dbcbb3f70747c44a77c7bcd40155683ae19c65e1c03b4aa3499c5328201f1"
   }
  }
 },
 "nbformat": 4,
 "nbformat_minor": 2
}
