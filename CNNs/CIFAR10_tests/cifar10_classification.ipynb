{
  "cells": [
    {
      "cell_type": "code",
      "execution_count": 1,
      "metadata": {
        "id": "ygB_XimVjIQC"
      },
      "outputs": [],
      "source": [
        "import torch\n",
        "import torch.nn as nn\n",
        "import torch.nn.functional as F\n",
        "import torchvision\n",
        "import torchvision.transforms as transforms\n",
        "import numpy as np\n",
        "import matplotlib.pyplot as plt\n",
        "from datetime import datetime\n",
        "from sklearn.metrics import confusion_matrix\n",
        "import itertools"
      ]
    },
    {
      "cell_type": "code",
      "execution_count": 2,
      "metadata": {
        "id": "2kl2IFmTjIQI"
      },
      "outputs": [],
      "source": [
        "def plot_confusion_matrix(cm, classes, normalize=False,title='Confusion matrix', cmap=plt.cm.Blues):\n",
        "  if normalize:\n",
        "    cm = cm.astype('float') /cm.sum(axis = 1)[:,np.newaxis]\n",
        "    print(\"Normalized Confusion Matrix\")\n",
        "  else:\n",
        "    print('Confusion matrix, without normalization')\n",
        "  print(cm)\n",
        "  plt.imshow(cm, interpolation='nearest', cmap=cmap)\n",
        "  plt.title(title)\n",
        "  plt.colorbar()\n",
        "  tick_marks = np.arange(len(classes))\n",
        "  plt.xticks(tick_marks, classes, rotation=45)\n",
        "  plt.yticks(tick_marks, classes)\n",
        "  fmt = '.2f' if normalize else 'd'\n",
        "  thresh = cm.max() / 2.\n",
        "\n",
        "  for i, j in itertools.product(range(cm.shape[0]), range(cm.shape[1])):\n",
        "    plt.text(j,i,format(cm[i,j], fmt),\n",
        "    horizontalalignment='center',\n",
        "    color='white' if cm[i, j] >thresh else 'black')\n",
        "  plt.tight_layout()\n",
        "  plt.ylabel('True label')\n",
        "  plt.xlabel('Predicted label')\n",
        "  plt.show()"
      ]
    },
    {
      "cell_type": "code",
      "execution_count": 3,
      "metadata": {
        "id": "ub-024rxjIQO"
      },
      "outputs": [],
      "source": [
        "transformer = torchvision.transforms.Compose([\n",
        "  transforms.RandomCrop(32,padding =4),\n",
        "  transforms.RandomHorizontalFlip(),\n",
        "  transforms.RandomAffine(0, translate=(0.1,0.1)),\n",
        "  transforms.ToTensor(),\n",
        "])"
      ]
    },
    {
      "cell_type": "code",
      "execution_count": 4,
      "metadata": {
        "colab": {
          "base_uri": "https://localhost:8080/",
          "height": 101,
          "referenced_widgets": [
            "59f9fa92101046629a9daeb090f8a591",
            "601280e75c424db5a29cb5a67c444977",
            "f07185eb281347a4afa0404b61ba8edf",
            "b551b4c8f6a54c038c6b24839341dd50",
            "01da489350dc41969e02c0159e6acc4b",
            "d02c924904d2465db86df6c1d446bdda",
            "4ac5689780ce40398ef157463e1d456d",
            "2f069c7136e1430381ea2fdc76c57b6e",
            "c88a2c1a3ac5427e8b8bdfd10848afad",
            "ddcc7e1b539b471081fb74cb50c64704",
            "65017044d52c4a9dbb7518cd2c5cb9a6"
          ]
        },
        "id": "J2HEc-4HjIQQ",
        "outputId": "7cfc11f7-861d-4a5a-8ff3-323276161004"
      },
      "outputs": [
        {
          "output_type": "stream",
          "name": "stdout",
          "text": [
            "Downloading https://www.cs.toronto.edu/~kriz/cifar-10-python.tar.gz to ./cifar-10-python.tar.gz\n"
          ]
        },
        {
          "output_type": "display_data",
          "data": {
            "text/plain": [
              "  0%|          | 0/170498071 [00:00<?, ?it/s]"
            ],
            "application/vnd.jupyter.widget-view+json": {
              "version_major": 2,
              "version_minor": 0,
              "model_id": "59f9fa92101046629a9daeb090f8a591"
            }
          },
          "metadata": {}
        },
        {
          "output_type": "stream",
          "name": "stdout",
          "text": [
            "Extracting ./cifar-10-python.tar.gz to .\n",
            "Files already downloaded and verified\n"
          ]
        }
      ],
      "source": [
        "train_data = torchvision.datasets.CIFAR10(\n",
        "  root = '.',\n",
        "  train=True,\n",
        "  transform=transformer,\n",
        "  download=True\n",
        ")\n",
        "\n",
        "test_data = torchvision.datasets.CIFAR10(\n",
        "  root='.',\n",
        "  train=False,\n",
        "  transform=transforms.ToTensor(),\n",
        "  download=True\n",
        ")"
      ]
    },
    {
      "cell_type": "code",
      "execution_count": 5,
      "metadata": {
        "colab": {
          "base_uri": "https://localhost:8080/"
        },
        "id": "5d5d1JOjjIQT",
        "outputId": "7a6d875d-5524-4d93-ea2f-5f9ba6165de1"
      },
      "outputs": [
        {
          "output_type": "execute_result",
          "data": {
            "text/plain": [
              "['airplane',\n",
              " 'automobile',\n",
              " 'bird',\n",
              " 'cat',\n",
              " 'deer',\n",
              " 'dog',\n",
              " 'frog',\n",
              " 'horse',\n",
              " 'ship',\n",
              " 'truck']"
            ]
          },
          "metadata": {},
          "execution_count": 5
        }
      ],
      "source": [
        "train_data.classes"
      ]
    },
    {
      "cell_type": "code",
      "execution_count": 6,
      "metadata": {
        "colab": {
          "base_uri": "https://localhost:8080/"
        },
        "id": "GYcsKxGujIQV",
        "outputId": "b71dabf6-d190-40ae-e698-fd357db59d9e"
      },
      "outputs": [
        {
          "output_type": "stream",
          "name": "stdout",
          "text": [
            "10 objects to classify\n"
          ]
        }
      ],
      "source": [
        "classes = len(train_data.classes)\n",
        "print(\"%s objects to classify\" % classes)"
      ]
    },
    {
      "cell_type": "code",
      "execution_count": 7,
      "metadata": {
        "colab": {
          "base_uri": "https://localhost:8080/"
        },
        "id": "jP1SjhO6jIQZ",
        "outputId": "c507cbb8-23f4-44b6-b8d0-64d46e7c9166"
      },
      "outputs": [
        {
          "output_type": "stream",
          "name": "stdout",
          "text": [
            "Files already downloaded and verified\n"
          ]
        }
      ],
      "source": [
        "batch_size = 128\n",
        "train_loader = torch.utils.data.DataLoader(dataset=train_data, batch_size=batch_size, shuffle=True)\n",
        "test_loader = torch.utils.data.DataLoader(dataset=test_data, batch_size=batch_size, shuffle=False)\n",
        "\n",
        "train_data_fix = torchvision.datasets.CIFAR10(\n",
        "  root = '.',\n",
        "  train=True,\n",
        "  transform= transforms.ToTensor(),\n",
        "  download=True\n",
        ")\n",
        "\n",
        "train_loader_fix = torch.utils.data.DataLoader(dataset= train_data_fix, batch_size = 128, shuffle=False)\n"
      ]
    },
    {
      "cell_type": "code",
      "execution_count": 8,
      "metadata": {
        "id": "WOYVuzeYjIQd"
      },
      "outputs": [],
      "source": [
        "class CNN(nn.Module):\n",
        "  def __init__(self, C:int):\n",
        "    super(CNN, self).__init__()\n",
        "\n",
        "    self.conv1 = nn.Sequential(\n",
        "      nn.Conv2d(3,32,kernel_size=3,padding=1),\n",
        "      nn.ReLU(),\n",
        "      nn.BatchNorm2d(32),\n",
        "      nn.Conv2d(32,32,kernel_size=3,padding=1),\n",
        "      nn.ReLU(),\n",
        "      nn.BatchNorm2d(32),\n",
        "      nn.MaxPool2d(2)\n",
        "    )\n",
        "\n",
        "    self.conv2 = nn.Sequential(\n",
        "      nn.Conv2d(32,64, kernel_size=3, padding=1),\n",
        "      nn.ReLU(),\n",
        "      nn.BatchNorm2d(64),\n",
        "      nn.Conv2d(64,64,3,padding=1),\n",
        "      nn.ReLU(),\n",
        "      nn.BatchNorm2d(64),\n",
        "      nn.MaxPool2d(2)\n",
        "    )\n",
        "\n",
        "    self.conv3 = nn.Sequential(\n",
        "      nn.Conv2d(64,128,3,padding=1),\n",
        "      nn.ReLU(),\n",
        "      nn.BatchNorm2d(128),\n",
        "      nn.Conv2d(128,128,3,padding=1),\n",
        "      nn.ReLU(),\n",
        "      nn.BatchNorm2d(128),\n",
        "      nn.MaxPool2d(2)\n",
        "    )\n",
        "\n",
        "    self.dl1 = nn.Linear(128 * 4 * 4, 1024)\n",
        "    self.dl2 = nn.Linear(1024, C)\n",
        "\n",
        "  def forward(self, X):\n",
        "    X = self.conv1(X)\n",
        "    X = self.conv2(X)\n",
        "    X = self.conv3(X)\n",
        "    X = X.view(X.size(0), -1)\n",
        "    X = F.dropout(X,0.5)\n",
        "    X = F.relu(self.dl1(X))\n",
        "    X = F.dropout(X, 0.2)\n",
        "    X = self.dl2(X)\n",
        "    return X"
      ]
    },
    {
      "cell_type": "code",
      "execution_count": 9,
      "metadata": {
        "colab": {
          "base_uri": "https://localhost:8080/"
        },
        "id": "jsXIMvHqjIQi",
        "outputId": "c636c5ad-3e31-4686-bc50-496cc483f537"
      },
      "outputs": [
        {
          "output_type": "stream",
          "name": "stdout",
          "text": [
            "cuda:0\n"
          ]
        },
        {
          "output_type": "execute_result",
          "data": {
            "text/plain": [
              "CNN(\n",
              "  (conv1): Sequential(\n",
              "    (0): Conv2d(3, 32, kernel_size=(3, 3), stride=(1, 1), padding=(1, 1))\n",
              "    (1): ReLU()\n",
              "    (2): BatchNorm2d(32, eps=1e-05, momentum=0.1, affine=True, track_running_stats=True)\n",
              "    (3): Conv2d(32, 32, kernel_size=(3, 3), stride=(1, 1), padding=(1, 1))\n",
              "    (4): ReLU()\n",
              "    (5): BatchNorm2d(32, eps=1e-05, momentum=0.1, affine=True, track_running_stats=True)\n",
              "    (6): MaxPool2d(kernel_size=2, stride=2, padding=0, dilation=1, ceil_mode=False)\n",
              "  )\n",
              "  (conv2): Sequential(\n",
              "    (0): Conv2d(32, 64, kernel_size=(3, 3), stride=(1, 1), padding=(1, 1))\n",
              "    (1): ReLU()\n",
              "    (2): BatchNorm2d(64, eps=1e-05, momentum=0.1, affine=True, track_running_stats=True)\n",
              "    (3): Conv2d(64, 64, kernel_size=(3, 3), stride=(1, 1), padding=(1, 1))\n",
              "    (4): ReLU()\n",
              "    (5): BatchNorm2d(64, eps=1e-05, momentum=0.1, affine=True, track_running_stats=True)\n",
              "    (6): MaxPool2d(kernel_size=2, stride=2, padding=0, dilation=1, ceil_mode=False)\n",
              "  )\n",
              "  (conv3): Sequential(\n",
              "    (0): Conv2d(64, 128, kernel_size=(3, 3), stride=(1, 1), padding=(1, 1))\n",
              "    (1): ReLU()\n",
              "    (2): BatchNorm2d(128, eps=1e-05, momentum=0.1, affine=True, track_running_stats=True)\n",
              "    (3): Conv2d(128, 128, kernel_size=(3, 3), stride=(1, 1), padding=(1, 1))\n",
              "    (4): ReLU()\n",
              "    (5): BatchNorm2d(128, eps=1e-05, momentum=0.1, affine=True, track_running_stats=True)\n",
              "    (6): MaxPool2d(kernel_size=2, stride=2, padding=0, dilation=1, ceil_mode=False)\n",
              "  )\n",
              "  (dl1): Linear(in_features=2048, out_features=1024, bias=True)\n",
              "  (dl2): Linear(in_features=1024, out_features=10, bias=True)\n",
              ")"
            ]
          },
          "metadata": {},
          "execution_count": 9
        }
      ],
      "source": [
        "model = CNN(classes)\n",
        "device = torch.device('cuda:0' if torch.cuda.is_available() else 'cpu')\n",
        "print(device)\n",
        "model.to(device)"
      ]
    },
    {
      "cell_type": "code",
      "execution_count": 10,
      "metadata": {
        "id": "M5WIw-rkjIQm"
      },
      "outputs": [],
      "source": [
        "criterion = nn.CrossEntropyLoss()\n",
        "optimizer = torch.optim.Adam(model.parameters())"
      ]
    },
    {
      "cell_type": "code",
      "execution_count": 11,
      "metadata": {
        "id": "e1iJMmpSjIQo"
      },
      "outputs": [],
      "source": [
        "def batch_gd(model,criterion,optimizer,train_loader,test_loader,epochs:int):\n",
        "  train_losses = np.zeros(epochs)\n",
        "  test_losses = np.zeros(epochs)\n",
        "\n",
        "  for it in range(epochs):\n",
        "    model.train()\n",
        "    t0 =datetime.now()\n",
        "    train_loss = []\n",
        "    for inputs, targets in train_loader:\n",
        "      inputs, targets = inputs.to(device), targets.to(device)\n",
        "      optimizer.zero_grad()\n",
        "      outputs = model(inputs)\n",
        "      loss = criterion(outputs, targets)\n",
        "      loss.backward()\n",
        "      optimizer.step()\n",
        "      train_loss.append(loss.item())\n",
        "    train_loss = np.mean(train_loss)\n",
        "\n",
        "    model.eval()\n",
        "    test_loss = []\n",
        "    for inputs, targets in test_loader:\n",
        "      inputs, targets = inputs.to(device), targets.to(device)\n",
        "      outputs = model(inputs)\n",
        "      loss = criterion(outputs,targets)\n",
        "      test_loss.append(loss.item())\n",
        "    test_loss = np.mean(test_loss)\n",
        "    \n",
        "    train_losses[it] = train_loss\n",
        "    test_losses[it] = test_loss\n",
        "\n",
        "    dt = datetime.now() - t0\n",
        "    print(f'Epoch {it+1}/{epochs}, Train losses: {train_loss: .4f}, Test losses: {test_loss: .4f}, Duration: {dt}')\n",
        "  return train_losses, test_losses    \n"
      ]
    },
    {
      "cell_type": "code",
      "execution_count": 12,
      "metadata": {
        "colab": {
          "base_uri": "https://localhost:8080/"
        },
        "id": "pdTFJ7AejIQq",
        "outputId": "276ac6d9-1a12-48ef-a1e5-3a536e029665"
      },
      "outputs": [
        {
          "output_type": "stream",
          "name": "stdout",
          "text": [
            "Epoch 1/80, Train losses:  1.4246, Test losses:  1.1074, Duration: 0:00:33.182825\n",
            "Epoch 2/80, Train losses:  0.9982, Test losses:  0.8949, Duration: 0:00:25.904320\n",
            "Epoch 3/80, Train losses:  0.8482, Test losses:  0.8804, Duration: 0:00:25.326497\n",
            "Epoch 4/80, Train losses:  0.7563, Test losses:  0.7754, Duration: 0:00:25.136769\n",
            "Epoch 5/80, Train losses:  0.6937, Test losses:  0.6767, Duration: 0:00:25.296680\n",
            "Epoch 6/80, Train losses:  0.6447, Test losses:  0.6497, Duration: 0:00:25.371520\n",
            "Epoch 7/80, Train losses:  0.6095, Test losses:  0.6118, Duration: 0:00:25.202706\n",
            "Epoch 8/80, Train losses:  0.5737, Test losses:  0.6126, Duration: 0:00:25.456332\n",
            "Epoch 9/80, Train losses:  0.5465, Test losses:  0.5574, Duration: 0:00:25.176699\n",
            "Epoch 10/80, Train losses:  0.5248, Test losses:  0.5641, Duration: 0:00:25.643219\n",
            "Epoch 11/80, Train losses:  0.5078, Test losses:  0.5286, Duration: 0:00:25.499129\n",
            "Epoch 12/80, Train losses:  0.4944, Test losses:  0.5108, Duration: 0:00:25.365111\n",
            "Epoch 13/80, Train losses:  0.4738, Test losses:  0.4847, Duration: 0:00:25.445224\n",
            "Epoch 14/80, Train losses:  0.4661, Test losses:  0.4874, Duration: 0:00:26.192386\n",
            "Epoch 15/80, Train losses:  0.4516, Test losses:  0.4965, Duration: 0:00:25.354056\n",
            "Epoch 16/80, Train losses:  0.4365, Test losses:  0.4980, Duration: 0:00:25.178190\n",
            "Epoch 17/80, Train losses:  0.4268, Test losses:  0.4693, Duration: 0:00:25.308676\n",
            "Epoch 18/80, Train losses:  0.4151, Test losses:  0.5043, Duration: 0:00:25.587320\n",
            "Epoch 19/80, Train losses:  0.4057, Test losses:  0.5318, Duration: 0:00:25.350483\n",
            "Epoch 20/80, Train losses:  0.3999, Test losses:  0.4495, Duration: 0:00:25.315543\n",
            "Epoch 21/80, Train losses:  0.3864, Test losses:  0.4894, Duration: 0:00:25.480250\n",
            "Epoch 22/80, Train losses:  0.3758, Test losses:  0.4485, Duration: 0:00:25.885025\n",
            "Epoch 23/80, Train losses:  0.3722, Test losses:  0.4574, Duration: 0:00:25.183295\n",
            "Epoch 24/80, Train losses:  0.3618, Test losses:  0.4640, Duration: 0:00:25.044553\n",
            "Epoch 25/80, Train losses:  0.3552, Test losses:  0.4664, Duration: 0:00:25.034474\n",
            "Epoch 26/80, Train losses:  0.3519, Test losses:  0.4596, Duration: 0:00:25.749851\n",
            "Epoch 27/80, Train losses:  0.3475, Test losses:  0.4278, Duration: 0:00:25.096241\n",
            "Epoch 28/80, Train losses:  0.3395, Test losses:  0.4469, Duration: 0:00:25.173762\n",
            "Epoch 29/80, Train losses:  0.3273, Test losses:  0.4864, Duration: 0:00:25.100918\n",
            "Epoch 30/80, Train losses:  0.3268, Test losses:  0.4423, Duration: 0:00:25.473872\n",
            "Epoch 31/80, Train losses:  0.3215, Test losses:  0.4264, Duration: 0:00:24.828997\n",
            "Epoch 32/80, Train losses:  0.3137, Test losses:  0.4652, Duration: 0:00:24.902565\n",
            "Epoch 33/80, Train losses:  0.3104, Test losses:  0.4155, Duration: 0:00:25.369335\n",
            "Epoch 34/80, Train losses:  0.3008, Test losses:  0.4130, Duration: 0:00:25.629861\n",
            "Epoch 35/80, Train losses:  0.2989, Test losses:  0.4272, Duration: 0:00:24.981924\n",
            "Epoch 36/80, Train losses:  0.2968, Test losses:  0.4390, Duration: 0:00:25.490398\n",
            "Epoch 37/80, Train losses:  0.2841, Test losses:  0.4100, Duration: 0:00:24.906711\n",
            "Epoch 38/80, Train losses:  0.2804, Test losses:  0.4041, Duration: 0:00:25.645987\n",
            "Epoch 39/80, Train losses:  0.2811, Test losses:  0.4049, Duration: 0:00:25.030740\n",
            "Epoch 40/80, Train losses:  0.2775, Test losses:  0.4507, Duration: 0:00:25.080423\n",
            "Epoch 41/80, Train losses:  0.2715, Test losses:  0.4073, Duration: 0:00:24.754635\n",
            "Epoch 42/80, Train losses:  0.2710, Test losses:  0.3991, Duration: 0:00:25.394783\n",
            "Epoch 43/80, Train losses:  0.2664, Test losses:  0.4378, Duration: 0:00:24.915234\n",
            "Epoch 44/80, Train losses:  0.2626, Test losses:  0.4235, Duration: 0:00:24.811796\n",
            "Epoch 45/80, Train losses:  0.2617, Test losses:  0.3952, Duration: 0:00:25.008720\n",
            "Epoch 46/80, Train losses:  0.2602, Test losses:  0.3992, Duration: 0:00:24.782075\n",
            "Epoch 47/80, Train losses:  0.2551, Test losses:  0.4373, Duration: 0:00:25.139042\n",
            "Epoch 48/80, Train losses:  0.2480, Test losses:  0.4016, Duration: 0:00:24.732488\n",
            "Epoch 49/80, Train losses:  0.2452, Test losses:  0.4119, Duration: 0:00:24.993106\n",
            "Epoch 50/80, Train losses:  0.2427, Test losses:  0.3853, Duration: 0:00:24.887597\n",
            "Epoch 51/80, Train losses:  0.2452, Test losses:  0.3982, Duration: 0:00:25.216396\n",
            "Epoch 52/80, Train losses:  0.2415, Test losses:  0.4166, Duration: 0:00:25.074739\n",
            "Epoch 53/80, Train losses:  0.2392, Test losses:  0.4095, Duration: 0:00:24.788120\n",
            "Epoch 54/80, Train losses:  0.2345, Test losses:  0.3997, Duration: 0:00:24.739362\n",
            "Epoch 55/80, Train losses:  0.2270, Test losses:  0.3962, Duration: 0:00:25.560482\n",
            "Epoch 56/80, Train losses:  0.2309, Test losses:  0.3983, Duration: 0:00:24.861877\n",
            "Epoch 57/80, Train losses:  0.2277, Test losses:  0.4168, Duration: 0:00:24.763671\n",
            "Epoch 58/80, Train losses:  0.2225, Test losses:  0.3817, Duration: 0:00:24.836101\n",
            "Epoch 59/80, Train losses:  0.2205, Test losses:  0.4055, Duration: 0:00:25.384642\n",
            "Epoch 60/80, Train losses:  0.2195, Test losses:  0.4035, Duration: 0:00:24.777298\n",
            "Epoch 61/80, Train losses:  0.2166, Test losses:  0.3807, Duration: 0:00:24.745848\n",
            "Epoch 62/80, Train losses:  0.2108, Test losses:  0.3948, Duration: 0:00:24.855981\n",
            "Epoch 63/80, Train losses:  0.2101, Test losses:  0.4174, Duration: 0:00:25.405020\n",
            "Epoch 64/80, Train losses:  0.2146, Test losses:  0.3887, Duration: 0:00:24.616064\n",
            "Epoch 65/80, Train losses:  0.2114, Test losses:  0.4113, Duration: 0:00:24.804485\n",
            "Epoch 66/80, Train losses:  0.2129, Test losses:  0.3896, Duration: 0:00:24.670004\n",
            "Epoch 67/80, Train losses:  0.2006, Test losses:  0.3966, Duration: 0:00:25.205359\n",
            "Epoch 68/80, Train losses:  0.2057, Test losses:  0.3962, Duration: 0:00:24.581370\n",
            "Epoch 69/80, Train losses:  0.2023, Test losses:  0.3980, Duration: 0:00:24.772759\n",
            "Epoch 70/80, Train losses:  0.1976, Test losses:  0.3895, Duration: 0:00:24.943381\n",
            "Epoch 71/80, Train losses:  0.2042, Test losses:  0.3966, Duration: 0:00:25.262859\n",
            "Epoch 72/80, Train losses:  0.1951, Test losses:  0.3857, Duration: 0:00:24.850573\n",
            "Epoch 73/80, Train losses:  0.1964, Test losses:  0.3831, Duration: 0:00:24.872876\n",
            "Epoch 74/80, Train losses:  0.1959, Test losses:  0.4000, Duration: 0:00:24.743337\n",
            "Epoch 75/80, Train losses:  0.1945, Test losses:  0.4427, Duration: 0:00:25.521083\n",
            "Epoch 76/80, Train losses:  0.1904, Test losses:  0.3644, Duration: 0:00:24.620696\n",
            "Epoch 77/80, Train losses:  0.1852, Test losses:  0.3961, Duration: 0:00:24.852125\n",
            "Epoch 78/80, Train losses:  0.1935, Test losses:  0.4034, Duration: 0:00:24.811282\n",
            "Epoch 79/80, Train losses:  0.1861, Test losses:  0.3899, Duration: 0:00:25.371521\n",
            "Epoch 80/80, Train losses:  0.1871, Test losses:  0.3959, Duration: 0:00:24.837457\n"
          ]
        }
      ],
      "source": [
        "train_losses, test_losses = batch_gd(model,criterion,optimizer,train_loader,test_loader,80)"
      ]
    },
    {
      "cell_type": "code",
      "source": [
        "plt.plot(train_losses, label= 'train loss')\n",
        "plt.plot(test_losses, label = 'test_losses')\n",
        "plt.legend()\n",
        "plt.show()"
      ],
      "metadata": {
        "colab": {
          "base_uri": "https://localhost:8080/",
          "height": 265
        },
        "id": "R3Lhs40hz8K7",
        "outputId": "d86c723c-d4db-4631-81da-452df1e30890"
      },
      "execution_count": 13,
      "outputs": [
        {
          "output_type": "display_data",
          "data": {
            "text/plain": [
              "<Figure size 432x288 with 1 Axes>"
            ],
            "image/png": "[encoded data removed]"
          },
          "metadata": {
            "needs_background": "light"
          }
        }
      ]
    },
    {
      "cell_type": "code",
      "source": [
        "model.eval()\n",
        "n_correct = 0.\n",
        "n_total = 0.\n",
        "for inputs, targets in train_loader_fix:\n",
        "  inputs, targets = inputs.to(device), targets.to(device)\n",
        "  outputs = model(inputs)\n",
        "  _,predictions = torch.max(outputs, 1)\n",
        "  n_correct += (predictions == targets).sum().item()\n",
        "  n_total += targets.shape[0]\n",
        "train_acc = n_correct/n_total\n",
        "\n",
        "for inputs, targets in test_loader:\n",
        "  inputs, targets = inputs.to(device), targets.to(device)\n",
        "  outputs = model(inputs)\n",
        "  _,predictions = torch.max(outputs, 1)\n",
        "  n_correct += (predictions == targets).sum().item()\n",
        "  n_total += targets.shape[0]\n",
        "test_acc = n_correct/n_total\n",
        "\n",
        "print(f'Train acc: {train_acc: .4f}, Test acc: {test_acc: .4f}')"
      ],
      "metadata": {
        "colab": {
          "base_uri": "https://localhost:8080/"
        },
        "id": "m9md44zR0TzM",
        "outputId": "6c3888d8-fa8d-4d9a-d679-1e3975a196a6"
      },
      "execution_count": 14,
      "outputs": [
        {
          "output_type": "stream",
          "name": "stdout",
          "text": [
            "Train acc:  0.9513, Test acc:  0.9402\n"
          ]
        }
      ]
    },
    {
      "cell_type": "code",
      "source": [
        "x_test = test_data.data\n",
        "y_test = np.array(test_data.targets)\n",
        "p_test = np.array([])\n",
        "\n",
        "for inputs, targets in test_loader:\n",
        "  inputs, targets = inputs.to(device), targets.to(device)\n",
        "  outputs = model(inputs)\n",
        "  _,predictions = torch.max(outputs, 1)\n",
        "  p_test = np.concatenate((p_test, predictions.cpu().numpy()))\n",
        "cm = confusion_matrix(y_test,p_test)\n",
        "plot_confusion_matrix(cm,train_data.classes)"
      ],
      "metadata": {
        "colab": {
          "base_uri": "https://localhost:8080/",
          "height": 502
        },
        "id": "zDecdI4Q2OCn",
        "outputId": "9d790488-dbda-49db-a39d-98719d83de5b"
      },
      "execution_count": 15,
      "outputs": [
        {
          "output_type": "stream",
          "name": "stdout",
          "text": [
            "Confusion matrix, without normalization\n",
            "[[849  19  36  24  16   1   4   2  25  24]\n",
            " [  2 957   1   3   0   1   1   0   6  29]\n",
            " [ 14   1 825  43  52  16  27  14   1   7]\n",
            " [  4   4  21 828  31  74  17  11   3   7]\n",
            " [  1   0  11  30 920  10  13  14   1   0]\n",
            " [  2   1  16 135  29 794   5  16   0   2]\n",
            " [  5   3  17  36  14   9 914   1   0   1]\n",
            " [  1   2   6  26  30  31   3 897   2   2]\n",
            " [ 30  18   6  13   1   2   5   4 908  13]\n",
            " [  8  34   4   4   0   0   1   0   6 943]]\n"
          ]
        },
        {
          "output_type": "display_data",
          "data": {
            "text/plain": [
              "<Figure size 432x288 with 2 Axes>"
            ],
            "image/png": "[encoded data removed]"
          },
          "metadata": {
            "needs_background": "light"
          }
        }
      ]
    },
    {
      "cell_type": "code",
      "source": [
        "p_test = p_test.astype(np.uint8)\n",
        "misclassified_idx = np.where(p_test != y_test)[0]\n",
        "img_idx = np.random.choice(misclassified_idx, 10, replace=False)\n",
        "plt.figure(figsize=(32,32))\n",
        "for j, i in enumerate(img_idx):\n",
        "  plt.subplot(10, 1, j+1)\n",
        "  plt.axis('off')\n",
        "  plt.imshow(x_test[i].reshape(32,32,3))\n",
        "  plt.title(\"True Label: %s Predicted: %s\" % (train_data.classes[y_test[i]], train_data.classes[p_test[i]]))"
      ],
      "metadata": {
        "colab": {
          "base_uri": "https://localhost:8080/",
          "height": 1000
        },
        "id": "4ua19gtl3vma",
        "outputId": "54b999f8-302f-499b-e3e7-d2a4d30f74fc"
      },
      "execution_count": 17,
      "outputs": [
        {
          "output_type": "display_data",
          "data": {
            "text/plain": [
              "<Figure size 2304x2304 with 10 Axes>"
            ],
            "image/png": "[encoded data removed]"
          },
          "metadata": {
            "needs_background": "light"
          }
        }
      ]
    }
  ],
  "metadata": {
    "kernelspec": {
      "display_name": "Python 3",
      "language": "python",
      "name": "python3"
    },
    "language_info": {
      "codemirror_mode": {
        "name": "ipython",
        "version": 3
      },
      "file_extension": ".py",
      "mimetype": "text/x-python",
      "name": "python",
      "nbconvert_exporter": "python",
      "pygments_lexer": "ipython3",
      "version": "3.10.6"
    },
    "orig_nbformat": 4,
    "vscode": {
      "interpreter": {
        "hash": "916dbcbb3f70747c44a77c7bcd40155683ae19c65e1c03b4aa3499c5328201f1"
      }
    },
    "colab": {
      "provenance": []
    },
    "accelerator": "GPU",
    "gpuClass": "standard",
    "widgets": {
      "application/vnd.jupyter.widget-state+json": {
        "59f9fa92101046629a9daeb090f8a591": {
          "model_module": "@jupyter-widgets/controls",
          "model_name": "HBoxModel",
          "model_module_version": "1.5.0",
          "state": {
            "_dom_classes": [],
            "_model_module": "@jupyter-widgets/controls",
            "_model_module_version": "1.5.0",
            "_model_name": "HBoxModel",
            "_view_count": null,
            "_view_module": "@jupyter-widgets/controls",
            "_view_module_version": "1.5.0",
            "_view_name": "HBoxView",
            "box_style": "",
            "children": [
              "IPY_MODEL_601280e75c424db5a29cb5a67c444977",
              "IPY_MODEL_f07185eb281347a4afa0404b61ba8edf",
              "IPY_MODEL_b551b4c8f6a54c038c6b24839341dd50"
            ],
            "layout": "IPY_MODEL_01da489350dc41969e02c0159e6acc4b"
          }
        },
        "601280e75c424db5a29cb5a67c444977": {
          "model_module": "@jupyter-widgets/controls",
          "model_name": "HTMLModel",
          "model_module_version": "1.5.0",
          "state": {
            "_dom_classes": [],
            "_model_module": "@jupyter-widgets/controls",
            "_model_module_version": "1.5.0",
            "_model_name": "HTMLModel",
            "_view_count": null,
            "_view_module": "@jupyter-widgets/controls",
            "_view_module_version": "1.5.0",
            "_view_name": "HTMLView",
            "description": "",
            "description_tooltip": null,
            "layout": "IPY_MODEL_d02c924904d2465db86df6c1d446bdda",
            "placeholder": "​",
            "style": "IPY_MODEL_4ac5689780ce40398ef157463e1d456d",
            "value": "100%"
          }
        },
        "f07185eb281347a4afa0404b61ba8edf": {
          "model_module": "@jupyter-widgets/controls",
          "model_name": "FloatProgressModel",
          "model_module_version": "1.5.0",
          "state": {
            "_dom_classes": [],
            "_model_module": "@jupyter-widgets/controls",
            "_model_module_version": "1.5.0",
            "_model_name": "FloatProgressModel",
            "_view_count": null,
            "_view_module": "@jupyter-widgets/controls",
            "_view_module_version": "1.5.0",
            "_view_name": "ProgressView",
            "bar_style": "success",
            "description": "",
            "description_tooltip": null,
            "layout": "IPY_MODEL_2f069c7136e1430381ea2fdc76c57b6e",
            "max": 170498071,
            "min": 0,
            "orientation": "horizontal",
            "style": "IPY_MODEL_c88a2c1a3ac5427e8b8bdfd10848afad",
            "value": 170498071
          }
        },
        "b551b4c8f6a54c038c6b24839341dd50": {
          "model_module": "@jupyter-widgets/controls",
          "model_name": "HTMLModel",
          "model_module_version": "1.5.0",
          "state": {
            "_dom_classes": [],
            "_model_module": "@jupyter-widgets/controls",
            "_model_module_version": "1.5.0",
            "_model_name": "HTMLModel",
            "_view_count": null,
            "_view_module": "@jupyter-widgets/controls",
            "_view_module_version": "1.5.0",
            "_view_name": "HTMLView",
            "description": "",
            "description_tooltip": null,
            "layout": "IPY_MODEL_ddcc7e1b539b471081fb74cb50c64704",
            "placeholder": "​",
            "style": "IPY_MODEL_65017044d52c4a9dbb7518cd2c5cb9a6",
            "value": " 170498071/170498071 [00:02&lt;00:00, 61914672.57it/s]"
          }
        },
        "01da489350dc41969e02c0159e6acc4b": {
          "model_module": "@jupyter-widgets/base",
          "model_name": "LayoutModel",
          "model_module_version": "1.2.0",
          "state": {
            "_model_module": "@jupyter-widgets/base",
            "_model_module_version": "1.2.0",
            "_model_name": "LayoutModel",
            "_view_count": null,
            "_view_module": "@jupyter-widgets/base",
            "_view_module_version": "1.2.0",
            "_view_name": "LayoutView",
            "align_content": null,
            "align_items": null,
            "align_self": null,
            "border": null,
            "bottom": null,
            "display": null,
            "flex": null,
            "flex_flow": null,
            "grid_area": null,
            "grid_auto_columns": null,
            "grid_auto_flow": null,
            "grid_auto_rows": null,
            "grid_column": null,
            "grid_gap": null,
            "grid_row": null,
            "grid_template_areas": null,
            "grid_template_columns": null,
            "grid_template_rows": null,
            "height": null,
            "justify_content": null,
            "justify_items": null,
            "left": null,
            "margin": null,
            "max_height": null,
            "max_width": null,
            "min_height": null,
            "min_width": null,
            "object_fit": null,
            "object_position": null,
            "order": null,
            "overflow": null,
            "overflow_x": null,
            "overflow_y": null,
            "padding": null,
            "right": null,
            "top": null,
            "visibility": null,
            "width": null
          }
        },
        "d02c924904d2465db86df6c1d446bdda": {
          "model_module": "@jupyter-widgets/base",
          "model_name": "LayoutModel",
          "model_module_version": "1.2.0",
          "state": {
            "_model_module": "@jupyter-widgets/base",
            "_model_module_version": "1.2.0",
            "_model_name": "LayoutModel",
            "_view_count": null,
            "_view_module": "@jupyter-widgets/base",
            "_view_module_version": "1.2.0",
            "_view_name": "LayoutView",
            "align_content": null,
            "align_items": null,
            "align_self": null,
            "border": null,
            "bottom": null,
            "display": null,
            "flex": null,
            "flex_flow": null,
            "grid_area": null,
            "grid_auto_columns": null,
            "grid_auto_flow": null,
            "grid_auto_rows": null,
            "grid_column": null,
            "grid_gap": null,
            "grid_row": null,
            "grid_template_areas": null,
            "grid_template_columns": null,
            "grid_template_rows": null,
            "height": null,
            "justify_content": null,
            "justify_items": null,
            "left": null,
            "margin": null,
            "max_height": null,
            "max_width": null,
            "min_height": null,
            "min_width": null,
            "object_fit": null,
            "object_position": null,
            "order": null,
            "overflow": null,
            "overflow_x": null,
            "overflow_y": null,
            "padding": null,
            "right": null,
            "top": null,
            "visibility": null,
            "width": null
          }
        },
        "4ac5689780ce40398ef157463e1d456d": {
          "model_module": "@jupyter-widgets/controls",
          "model_name": "DescriptionStyleModel",
          "model_module_version": "1.5.0",
          "state": {
            "_model_module": "@jupyter-widgets/controls",
            "_model_module_version": "1.5.0",
            "_model_name": "DescriptionStyleModel",
            "_view_count": null,
            "_view_module": "@jupyter-widgets/base",
            "_view_module_version": "1.2.0",
            "_view_name": "StyleView",
            "description_width": ""
          }
        },
        "2f069c7136e1430381ea2fdc76c57b6e": {
          "model_module": "@jupyter-widgets/base",
          "model_name": "LayoutModel",
          "model_module_version": "1.2.0",
          "state": {
            "_model_module": "@jupyter-widgets/base",
            "_model_module_version": "1.2.0",
            "_model_name": "LayoutModel",
            "_view_count": null,
            "_view_module": "@jupyter-widgets/base",
            "_view_module_version": "1.2.0",
            "_view_name": "LayoutView",
            "align_content": null,
            "align_items": null,
            "align_self": null,
            "border": null,
            "bottom": null,
            "display": null,
            "flex": null,
            "flex_flow": null,
            "grid_area": null,
            "grid_auto_columns": null,
            "grid_auto_flow": null,
            "grid_auto_rows": null,
            "grid_column": null,
            "grid_gap": null,
            "grid_row": null,
            "grid_template_areas": null,
            "grid_template_columns": null,
            "grid_template_rows": null,
            "height": null,
            "justify_content": null,
            "justify_items": null,
            "left": null,
            "margin": null,
            "max_height": null,
            "max_width": null,
            "min_height": null,
            "min_width": null,
            "object_fit": null,
            "object_position": null,
            "order": null,
            "overflow": null,
            "overflow_x": null,
            "overflow_y": null,
            "padding": null,
            "right": null,
            "top": null,
            "visibility": null,
            "width": null
          }
        },
        "c88a2c1a3ac5427e8b8bdfd10848afad": {
          "model_module": "@jupyter-widgets/controls",
          "model_name": "ProgressStyleModel",
          "model_module_version": "1.5.0",
          "state": {
            "_model_module": "@jupyter-widgets/controls",
            "_model_module_version": "1.5.0",
            "_model_name": "ProgressStyleModel",
            "_view_count": null,
            "_view_module": "@jupyter-widgets/base",
            "_view_module_version": "1.2.0",
            "_view_name": "StyleView",
            "bar_color": null,
            "description_width": ""
          }
        },
        "ddcc7e1b539b471081fb74cb50c64704": {
          "model_module": "@jupyter-widgets/base",
          "model_name": "LayoutModel",
          "model_module_version": "1.2.0",
          "state": {
            "_model_module": "@jupyter-widgets/base",
            "_model_module_version": "1.2.0",
            "_model_name": "LayoutModel",
            "_view_count": null,
            "_view_module": "@jupyter-widgets/base",
            "_view_module_version": "1.2.0",
            "_view_name": "LayoutView",
            "align_content": null,
            "align_items": null,
            "align_self": null,
            "border": null,
            "bottom": null,
            "display": null,
            "flex": null,
            "flex_flow": null,
            "grid_area": null,
            "grid_auto_columns": null,
            "grid_auto_flow": null,
            "grid_auto_rows": null,
            "grid_column": null,
            "grid_gap": null,
            "grid_row": null,
            "grid_template_areas": null,
            "grid_template_columns": null,
            "grid_template_rows": null,
            "height": null,
            "justify_content": null,
            "justify_items": null,
            "left": null,
            "margin": null,
            "max_height": null,
            "max_width": null,
            "min_height": null,
            "min_width": null,
            "object_fit": null,
            "object_position": null,
            "order": null,
            "overflow": null,
            "overflow_x": null,
            "overflow_y": null,
            "padding": null,
            "right": null,
            "top": null,
            "visibility": null,
            "width": null
          }
        },
        "65017044d52c4a9dbb7518cd2c5cb9a6": {
          "model_module": "@jupyter-widgets/controls",
          "model_name": "DescriptionStyleModel",
          "model_module_version": "1.5.0",
          "state": {
            "_model_module": "@jupyter-widgets/controls",
            "_model_module_version": "1.5.0",
            "_model_name": "DescriptionStyleModel",
            "_view_count": null,
            "_view_module": "@jupyter-widgets/base",
            "_view_module_version": "1.2.0",
            "_view_name": "StyleView",
            "description_width": ""
          }
        }
      }
    }
  },
  "nbformat": 4,
  "nbformat_minor": 0
}